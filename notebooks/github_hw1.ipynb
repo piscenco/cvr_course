{
  "nbformat": 4,
  "nbformat_minor": 0,
  "metadata": {
    "kernelspec": {
      "display_name": "Python 3",
      "language": "python",
      "name": "python3"
    },
    "language_info": {
      "codemirror_mode": {
        "name": "ipython",
        "version": 3
      },
      "file_extension": ".py",
      "mimetype": "text/x-python",
      "name": "python",
      "nbconvert_exporter": "python",
      "pygments_lexer": "ipython3",
      "version": "3.6.9"
    },
    "colab": {
      "name": "github_hw1.ipynb",
      "provenance": [],
      "collapsed_sections": []
    }
  },
  "cells": [
    {
      "cell_type": "markdown",
      "metadata": {
        "id": "qRzNu72G8J7I"
      },
      "source": [
        "# Домашнее задание\n",
        "Домашнее задание выполнять в этой тетрадке. \n",
        "\n",
        "- [ ] Сделать fork репозитория cvr_cource (https://github.com/StarkitRobots/cvr_course) - 1 балл\n",
        "- [ ] Создать ветку update_readme - 1 балл\n",
        "- [ ] Добавить одну строчку в README.md \n",
        "- [ ] Запушить (git push) изменения в ветку update_readme - 3 балла\n",
        "- [ ] Слить (merge) ветку update_readme в ветку develop - 1 балл\n",
        "- [ ] Сохранить эту тетрадку с выполненной домашкой себе в репозиторий в ветку develop - 3 балла\n",
        "- [ ] Слить (merge) ветку develop в ветку main - 1 балл"
      ]
    },
    {
      "cell_type": "markdown",
      "metadata": {
        "id": "1niTyk4d8J7N"
      },
      "source": [
        "Материалы к семинару:\n",
        "1. [Удачная модель ветвления](https://m.habr.com/ru/post/106912/)\n",
        "2. [Зачем нужен Git](https://guides.hexlet.io/git-guide/)\n",
        "3. [Самые популярные ошибки и их решения](https://tproger.ru/translations/most-common-git-screwupsquestions-and-solutions/)\n",
        "4. [Ветвление](https://git-scm.com/book/ru/v2/%D0%92%D0%B5%D1%82%D0%B2%D0%BB%D0%B5%D0%BD%D0%B8%D0%B5-%D0%B2-Git-%D0%9E-%D0%B2%D0%B5%D1%82%D0%B2%D0%BB%D0%B5%D0%BD%D0%B8%D0%B8-%D0%B2-%D0%B4%D0%B2%D1%83%D1%85-%D1%81%D0%BB%D0%BE%D0%B2%D0%B0%D1%85)\n",
        "5. [Инструкция по всему Git](https://git-scm.com/book/ru/v2)\n",
        "6. [Приложение для обучения Git](https://learngitbranching.js.org/?locale=ru_RU), спасибо Анне Касаткиной за ссылку на отличный материал"
      ]
    },
    {
      "cell_type": "code",
      "metadata": {
        "id": "8oeCzMi-8J7P",
        "outputId": "db4c1238-8918-4449-ee82-cca31e148274",
        "colab": {
          "base_uri": "https://localhost:8080/",
          "height": 85
        }
      },
      "source": [
        "!git clone https://github.com/StarkitRobots/cvr_course.git"
      ],
      "execution_count": 1,
      "outputs": [
        {
          "output_type": "stream",
          "text": [
            "Cloning into 'cvr_course'...\n",
            "remote: Enumerating objects: 87, done.\u001b[K\n",
            "remote: Total 87 (delta 0), reused 0 (delta 0), pack-reused 87\n",
            "Unpacking objects: 100% (87/87), done.\n"
          ],
          "name": "stdout"
        }
      ]
    },
    {
      "cell_type": "code",
      "metadata": {
        "id": "WO5yUdrZ8c6T",
        "outputId": "5b8dc413-b7ae-458f-f040-43a56a8d2458",
        "colab": {
          "base_uri": "https://localhost:8080/",
          "height": 34
        }
      },
      "source": [
        "cd cvr_course"
      ],
      "execution_count": 2,
      "outputs": [
        {
          "output_type": "stream",
          "text": [
            "/content/cvr_course\n"
          ],
          "name": "stdout"
        }
      ]
    },
    {
      "cell_type": "code",
      "metadata": {
        "id": "W42nSENR8oaV"
      },
      "source": [
        " %pycat README.md"
      ],
      "execution_count": 3,
      "outputs": []
    },
    {
      "cell_type": "code",
      "metadata": {
        "id": "-4zq66iE8tM9",
        "outputId": "5f40f6b1-a97a-4d26-b101-26ce287b76e6",
        "colab": {
          "base_uri": "https://localhost:8080/",
          "height": 34
        }
      },
      "source": [
        "%%writefile README.md\n",
        "# Computer Vision in Robotics\n",
        "Implementation of HW tasks.\n",
        "\n",
        "<img src=\"./.img/logo_for_form.png\" height=\"350\" />\n",
        "\n",
        "\n",
        "Visit our site <https://www.starkitrobots.com/cvr> to check content.\n",
        "Course is online and will be carried out on our *[YouTube chanel](https://www.youtube.com/channel/UC0QPJgfg17wCqf4-hG_A5OA)*."
      ],
      "execution_count": 5,
      "outputs": [
        {
          "output_type": "stream",
          "text": [
            "Overwriting README.md\n"
          ],
          "name": "stdout"
        }
      ]
    },
    {
      "cell_type": "code",
      "metadata": {
        "id": "1m7O3-h69QvV"
      },
      "source": [
        "! git config --global user.email \"piscenco@mail.ru\"\n",
        "! git config --global user.name \"piscenco\""
      ],
      "execution_count": 7,
      "outputs": []
    },
    {
      "cell_type": "code",
      "metadata": {
        "id": "SHng0b719NH9"
      },
      "source": [
        "! git branch update_readme"
      ],
      "execution_count": 8,
      "outputs": []
    },
    {
      "cell_type": "code",
      "metadata": {
        "id": "p7jdQILi9lWC",
        "outputId": "a5b4835f-5b5f-4a64-9a13-9656dbbbd3fc",
        "colab": {
          "base_uri": "https://localhost:8080/",
          "height": 51
        }
      },
      "source": [
        "! git checkout update_readme"
      ],
      "execution_count": 9,
      "outputs": [
        {
          "output_type": "stream",
          "text": [
            "M\tREADME.md\n",
            "Switched to branch 'update_readme'\n"
          ],
          "name": "stdout"
        }
      ]
    },
    {
      "cell_type": "code",
      "metadata": {
        "id": "4BnQOiV99DLs",
        "outputId": "960f92de-de33-4910-e85a-320ac9e1e6eb",
        "colab": {
          "base_uri": "https://localhost:8080/",
          "height": 153
        }
      },
      "source": [
        "!git status"
      ],
      "execution_count": 10,
      "outputs": [
        {
          "output_type": "stream",
          "text": [
            "On branch update_readme\n",
            "Changes not staged for commit:\n",
            "  (use \"git add <file>...\" to update what will be committed)\n",
            "  (use \"git checkout -- <file>...\" to discard changes in working directory)\n",
            "\n",
            "\t\u001b[31mmodified:   README.md\u001b[m\n",
            "\n",
            "no changes added to commit (use \"git add\" and/or \"git commit -a\")\n"
          ],
          "name": "stdout"
        }
      ]
    },
    {
      "cell_type": "code",
      "metadata": {
        "id": "QmD6DhrK-T_N"
      },
      "source": [
        "! git remote add origin-pss # ..."
      ],
      "execution_count": 16,
      "outputs": []
    },
    {
      "cell_type": "code",
      "metadata": {
        "id": "QG_VsgqJ9svX",
        "outputId": "a2cdb06f-7189-4508-8f55-6ee562861fd6",
        "colab": {
          "base_uri": "https://localhost:8080/",
          "height": 255
        }
      },
      "source": [
        "!git add README.md\n",
        "!git commit -m \"Updated README.md\"\n",
        "!git push origin-pss update_readme"
      ],
      "execution_count": 17,
      "outputs": [
        {
          "output_type": "stream",
          "text": [
            "On branch update_readme\n",
            "nothing to commit, working tree clean\n",
            "Counting objects: 3, done.\n",
            "Delta compression using up to 2 threads.\n",
            "Compressing objects: 100% (3/3), done.\n",
            "Writing objects: 100% (3/3), 316 bytes | 316.00 KiB/s, done.\n",
            "Total 3 (delta 2), reused 0 (delta 0)\n",
            "remote: Resolving deltas: 100% (2/2), completed with 2 local objects.\u001b[K\n",
            "remote: \n",
            "remote: Create a pull request for 'update_readme' on GitHub by visiting:\u001b[K\n",
            "remote:      https://github.com/piscenco/cvr_course/pull/new/update_readme\u001b[K\n",
            "remote: \n",
            "To https://github.com/piscenco/cvr_course.git\n",
            " * [new branch]      update_readme -> update_readme\n"
          ],
          "name": "stdout"
        }
      ]
    },
    {
      "cell_type": "code",
      "metadata": {
        "id": "Q_aLWzec_Iju",
        "outputId": "f7d8b14c-b890-49b9-eafc-33d3110261e2",
        "colab": {
          "base_uri": "https://localhost:8080/",
          "height": 51
        }
      },
      "source": [
        "!git checkout develop"
      ],
      "execution_count": 18,
      "outputs": [
        {
          "output_type": "stream",
          "text": [
            "Branch 'develop' set up to track remote branch 'develop' from 'origin'.\n",
            "Switched to a new branch 'develop'\n"
          ],
          "name": "stdout"
        }
      ]
    },
    {
      "cell_type": "code",
      "metadata": {
        "id": "77NLM9Hd_cfN",
        "outputId": "19d9f99b-1989-42e7-fa8e-62d8507c2d3e",
        "colab": {
          "base_uri": "https://localhost:8080/",
          "height": 85
        }
      },
      "source": [
        "!git status"
      ],
      "execution_count": 19,
      "outputs": [
        {
          "output_type": "stream",
          "text": [
            "On branch develop\n",
            "Your branch is up to date with 'origin/develop'.\n",
            "\n",
            "nothing to commit, working tree clean\n"
          ],
          "name": "stdout"
        }
      ]
    },
    {
      "cell_type": "code",
      "metadata": {
        "id": "RT96pFcm_7bX",
        "outputId": "e0a16968-a813-423f-d485-1aeca7725ab3",
        "colab": {
          "base_uri": "https://localhost:8080/",
          "height": 85
        }
      },
      "source": [
        "! git merge update_readme"
      ],
      "execution_count": 20,
      "outputs": [
        {
          "output_type": "stream",
          "text": [
            "Updating d3444e1..f29dd24\n",
            "Fast-forward\n",
            " README.md | 3 \u001b[32m++\u001b[m\u001b[31m-\u001b[m\n",
            " 1 file changed, 2 insertions(+), 1 deletion(-)\n"
          ],
          "name": "stdout"
        }
      ]
    },
    {
      "cell_type": "code",
      "metadata": {
        "id": "1eMNaOgzADd8",
        "outputId": "236ff034-45e6-4bc7-b484-51c21672479f",
        "colab": {
          "base_uri": "https://localhost:8080/",
          "height": 68
        }
      },
      "source": [
        "!git push origin-pss develop"
      ],
      "execution_count": 22,
      "outputs": [
        {
          "output_type": "stream",
          "text": [
            "Total 0 (delta 0), reused 0 (delta 0)\n",
            "To https://github.com/piscenco/cvr_course.git\n",
            "   d3444e1..f29dd24  develop -> develop\n"
          ],
          "name": "stdout"
        }
      ]
    },
    {
      "cell_type": "code",
      "metadata": {
        "id": "oRyJ_872Bv7y"
      },
      "source": [
        "! git checkout main"
      ],
      "execution_count": null,
      "outputs": []
    },
    {
      "cell_type": "code",
      "metadata": {
        "id": "H5jbQuCkB5ku"
      },
      "source": [
        "! git merge develop"
      ],
      "execution_count": null,
      "outputs": []
    },
    {
      "cell_type": "code",
      "metadata": {
        "id": "nujiokG2B73M"
      },
      "source": [
        "!git push origin-pss main"
      ],
      "execution_count": null,
      "outputs": []
    }
  ]
}